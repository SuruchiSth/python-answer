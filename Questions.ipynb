{
 "cells": [
  {
   "cell_type": "markdown",
   "metadata": {},
   "source": [
    "# Q. You are given a string and your task is to swap cases. In other words, convert all lowercase letters to uppercase letters and vice versa.\n",
    "\n",
    "input: 'This is mE 123'\n",
    "\n",
    "output: 'tHIS IS Me 123'"
   ]
  },
  {
   "cell_type": "code",
   "execution_count": 3,
   "metadata": {},
   "outputs": [
    {
     "data": {
      "text/plain": [
       "'HKKDhshahjkd'"
      ]
     },
     "execution_count": 3,
     "metadata": {},
     "output_type": "execute_result"
    }
   ],
   "source": [
    "def swapCase(userInput):\n",
    "    output = \"\"\n",
    "    for char in userInput:\n",
    "        if char.islower():\n",
    "            output += char.upper()\n",
    "        else:\n",
    "            output += char.lower()\n",
    "    return output\n",
    "\n",
    "string =input(\"Ënter a string to swap cases : \")\n",
    "swapCase(string)\n"
   ]
  },
  {
   "cell_type": "markdown",
   "metadata": {},
   "source": [
    "# Q. The user enters a string and a substring. You have to print the number of times that the substring occurs in the given string. String traversal will take place from left to right, not from right to left.\n",
    "\n",
    "Input: \n",
    "\n",
    "ABCDCDC\n",
    "\n",
    "CDC\n",
    "\n",
    "Output:\n",
    "\n",
    "2"
   ]
  },
  {
   "cell_type": "code",
   "execution_count": 2,
   "metadata": {},
   "outputs": [
    {
     "name": "stdout",
     "output_type": "stream",
     "text": [
      "2\n"
     ]
    }
   ],
   "source": [
    "def substringOccur(userInput, substring):\n",
    "    count = 0\n",
    "    inputLength = len(userInput)\n",
    "    substringLength = len(substring)\n",
    "    \n",
    "    for char in range(0, inputLength):\n",
    "        if userInput[char] == substring[0]:\n",
    "            if userInput[char:char + substringLength] == substring:\n",
    "                count += 1\n",
    "    return count\n",
    "\n",
    "x = input(\"Enter a string : \")\n",
    "y = input(\"Enter a substring : \")\n",
    "print(substringOccur(x,y))"
   ]
  },
  {
   "cell_type": "markdown",
   "metadata": {},
   "source": [
    "# Q. You are given a string and your task is remove all Upper case letters. \n",
    "\n",
    "input: 'This is mE 123'\n",
    "\n",
    "output: 'his is m 123'"
   ]
  },
  {
   "cell_type": "code",
   "execution_count": 5,
   "metadata": {},
   "outputs": [
    {
     "data": {
      "text/plain": [
       "'hhi'"
      ]
     },
     "execution_count": 5,
     "metadata": {},
     "output_type": "execute_result"
    }
   ],
   "source": [
    "def removeUpperCase(userInput):\n",
    "    output = \"\"\n",
    "    for char in userInput:\n",
    "        if char.islower():\n",
    "            output += char.lower()\n",
    "        else:\n",
    "            output == output\n",
    "    return output\n",
    "\n",
    "string =input(\"Ënter a string to remove upper case letters : \")\n",
    "removeUpperCase(string)"
   ]
  }
 ],
 "metadata": {
  "kernelspec": {
   "display_name": "Python 3",
   "language": "python",
   "name": "python3"
  },
  "language_info": {
   "codemirror_mode": {
    "name": "ipython",
    "version": 3
   },
   "file_extension": ".py",
   "mimetype": "text/x-python",
   "name": "python",
   "nbconvert_exporter": "python",
   "pygments_lexer": "ipython3",
   "version": "3.6.5"
  }
 },
 "nbformat": 4,
 "nbformat_minor": 2
}
